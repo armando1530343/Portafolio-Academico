{
 "cells": [
  {
   "cell_type": "code",
   "execution_count": 4,
   "metadata": {},
   "outputs": [],
   "source": [
    "# Algunas bibliotecas que ocuparemos\n",
    "import numpy as np\n",
    "import matplotlib.pyplot as plt\n",
    "from scipy.cluster.vq import kmeans2\n",
    "from numpy.linalg import *\n",
    "import pylab\n",
    "from sklearn import datasets\n"
   ]
  },
  {
   "cell_type": "markdown",
   "metadata": {},
   "source": [
    "![](iris.png)"
   ]
  },
  {
   "cell_type": "code",
   "execution_count": 43,
   "metadata": {},
   "outputs": [],
   "source": [
    "iris = datasets.load_iris()\n",
    "data = iris.data[:100]\n",
    "target = iris.target[:100]\n",
    "data = (data - data.min(axis=0))/(data.max(axis=0)-data.min(axis=0))\n",
    "P =len(data)\n",
    "\n",
    "idx = np.random.permutation(P)\n",
    "data_training = data[idx[:int(P*.8)]]\n",
    "target_training = target[idx[:int(P*.8)]]\n",
    "\n",
    "data_testing = data[idx[int(P*.8):]]\n",
    "target_testing = target[idx[int(P*.8):]]\n"
   ]
  },
  {
   "cell_type": "code",
   "execution_count": 44,
   "metadata": {},
   "outputs": [
    {
     "data": {
      "image/png": "[encoded data removed]",
      "text/plain": [
       "<Figure size 432x288 with 1 Axes>"
      ]
     },
     "metadata": {
      "needs_background": "light"
     },
     "output_type": "display_data"
    }
   ],
   "source": [
    "colors = \"bgrcmykw\"\n",
    "plt.plot(np.random.random(3), np.random.random(3), 'o', c=np.random.rand(3))\n",
    "plt.show()"
   ]
  },
  {
   "cell_type": "code",
   "execution_count": 53,
   "metadata": {},
   "outputs": [
    {
     "name": "stdout",
     "output_type": "stream",
     "text": [
      "[[0.26287263 0.5995935  0.11481261 0.08321377]\n",
      " [0.5982906  0.32371795 0.7811132  0.70286576]]\n",
      "[0 0 0 0 0 1 0 1 1 0 1 0 0 1 1 0 0 0 1 1 1 0 1 1 1 0 1 1 0 0 1 1 0 1 0 1 1\n",
      " 1 0 0 1 1 0 0 1 0 0 0 0 0 1 1 1 1 1 1 0 1 0 0 0 1 1 0 0 0 1 1 0 0 1 0 1 0\n",
      " 0 1 0 1 1 0]\n"
     ]
    },
    {
     "data": {
      "image/png": "[encoded data removed]",
      "text/plain": [
       "<Figure size 432x288 with 1 Axes>"
      ]
     },
     "metadata": {
      "needs_background": "light"
     },
     "output_type": "display_data"
    }
   ],
   "source": [
    "mu, idx = kmeans2(data_training, 2)\n",
    "print (mu)\n",
    "print (idx)\n",
    "for i in range(2):\n",
    "    \n",
    "    my_set = data_training[idx==i]\n",
    "    plt.plot(my_set[:,0], my_set[:,1], 'o', c=np.random.rand(3))\n",
    "    "
   ]
  },
  {
   "cell_type": "code",
   "execution_count": 83,
   "metadata": {},
   "outputs": [
    {
     "name": "stdout",
     "output_type": "stream",
     "text": [
      "0.12690734718109165\n"
     ]
    },
    {
     "data": {
      "text/plain": [
       "<matplotlib.collections.PathCollection at 0x12c3a02d0>"
      ]
     },
     "execution_count": 83,
     "metadata": {},
     "output_type": "execute_result"
    },
    {
     "data": {
      "image/png": "[encoded data removed]",
      "text/plain": [
       "<Figure size 432x288 with 1 Axes>"
      ]
     },
     "metadata": {
      "needs_background": "light"
     },
     "output_type": "display_data"
    }
   ],
   "source": [
    "def f(x):\n",
    "    return np.sum(x*x, axis=1)\n",
    "lb = -1.5\n",
    "ub = 2.0\n",
    "N = 10\n",
    "n = 10\n",
    "t = 0\n",
    "G = 50\n",
    "CR = 0.8\n",
    "F = 0.5\n",
    "\n",
    "x = np.random.random((N,n))\n",
    "u = np.zeros((N,n))\n",
    "fx = f(x)\n",
    "\n",
    "conv = []\n",
    "while(t < G):\n",
    "    for i in range(N):\n",
    "        [r1, r2, r3] = np.random.permutation(N)[:3]\n",
    "        irand = np.random.randint(n)\n",
    "        for j in range(n):\n",
    "            if np.random.random() < CR or j == irand:\n",
    "                u[i,j] = x[r3,j] + F * (x[r1,j] - x[r2,j])\n",
    "                if u[i,j] < lb or u[i,j] > ub:\n",
    "                    u[i,j] = (x[r1,j] + x[r2,j] + x[r3,j])/3.0\n",
    "            else:\n",
    "                u[i,j] = x[i,j]\n",
    "    fu = f(u)\n",
    "    idx = fu < fx\n",
    "    fx[idx] = fu[idx]\n",
    "    x[idx] = u[idx]\n",
    "    conv.append(np.min(fx))\n",
    "    \n",
    "    t += 1\n",
    "\n",
    "print(np.min(fx))\n",
    "plt.scatter(range(G), conv)\n"
   ]
  },
  {
   "cell_type": "code",
   "execution_count": 76,
   "metadata": {},
   "outputs": [
    {
     "name": "stdout",
     "output_type": "stream",
     "text": [
      "[6 4 8]\n"
     ]
    }
   ],
   "source": [
    "print (np.random.permutation(N)[:3])"
   ]
  },
  {
   "cell_type": "code",
   "execution_count": 77,
   "metadata": {},
   "outputs": [
    {
     "name": "stdout",
     "output_type": "stream",
     "text": [
      "[[0. 0. 0.]\n",
      " [0. 0. 0.]\n",
      " [0. 0. 0.]\n",
      " [0. 0. 0.]\n",
      " [0. 0. 0.]\n",
      " [0. 0. 0.]\n",
      " [0. 0. 0.]\n",
      " [0. 0. 0.]\n",
      " [0. 0. 0.]\n",
      " [0. 0. 0.]]\n"
     ]
    }
   ],
   "source": [
    "u = np.zeros((N,n))\n",
    "print (u)"
   ]
  },
  {
   "cell_type": "code",
   "execution_count": null,
   "metadata": {},
   "outputs": [],
   "source": []
  },
  {
   "cell_type": "code",
   "execution_count": null,
   "metadata": {},
   "outputs": [],
   "source": []
  }
 ],
 "metadata": {
  "kernelspec": {
   "display_name": "Python 3",
   "language": "python",
   "name": "python3"
  },
  "language_info": {
   "codemirror_mode": {
    "name": "ipython",
    "version": 3
   },
   "file_extension": ".py",
   "mimetype": "text/x-python",
   "name": "python",
   "nbconvert_exporter": "python",
   "pygments_lexer": "ipython3",
   "version": "3.7.6"
  }
 },
 "nbformat": 4,
 "nbformat_minor": 2
}
