{
 "cells": [
  {
   "cell_type": "markdown",
   "metadata": {},
   "source": [
    "# Tarea 4\n"
   ]
  },
  {
   "cell_type": "markdown",
   "metadata": {},
   "source": [
    "\n",
    "\n",
    "El estudiante deberá entregar una notebook de python con los siguiente:\n"
   ]
  },
  {
   "cell_type": "markdown",
   "metadata": {},
   "source": [
    "### *(100 puntos)* FFBP (dos clases, i.e., una neurona de salida)\n",
    "\n",
    "El estudiante deberá implementar una FFBP  que pueda reconocer la planta del iris (ver http://scikit-learn.org/stable/auto_examples/datasets/plot_iris_dataset.html). Para esta entrega se requiere que pueda reconocer dos clases.\n",
    "\n",
    "El programa deberá ser capaz de interpretarse bajo Python versión 3 y, de ser necesario, podría requerirse al autor que demuestre el uso del programa personalmente al instructor. El código fuente deberá estar debidamente documentado."
   ]
  },
  {
   "cell_type": "code",
   "execution_count": null,
   "metadata": {},
   "outputs": [],
   "source": []
  },
  {
   "cell_type": "markdown",
   "metadata": {},
   "source": [
    "### (50 puntos) Validación FFBP (dos clases)\n",
    "\n",
    "Realice lo siguiente para validar su FFBP\n",
    "\n",
    "#### Conjunto de Validación y conjunto de prueba\n",
    "\n",
    "Divida aleatoriamente el total de los patrones  en dos grupos. Use el primero el primero para entrenar FFBP, mientras que el segundo se ocupará para validarla (i.e., patrones que no hayan sido vistos por el clasificador). Se recomienda que el estudiante asigne un 75\\% del total para entrenamiento y 25\\% para validación. \n",
    "\n",
    "#### Estadísticas\n",
    "\n",
    "Al tener componentes aleatorios, la FFBP debe validarse estadísticamente. Para esto, ejecute al menos 30 veces la implementación desarrollada y utilizando el conjunto de validación obtenga las siguientes métricas para cada archivo de datos:\n",
    "\n",
    "- **MSE**: Usualmente se usa el error cuadrático medio para indicar el comportamiento de la red. Se prefieren valores cercanos a cero en esta medida de desempeño.\n",
    "- **Exactitud**: En un problema de clasificación binaria, donde 0 indica no pertence y 1 si pertenece, cada uno de los patrones probados pueden ser correctos (verdadero positivo, o verdadero negativo), o inconrrectos (falso positivo o falso negativo), donde: \n",
    "    1. verdadero positivo (VP), hace referencia a que se clasificó correctamente al patrón, donde perteneciendo éste a la clase, el resultado fue verdadero (1). \n",
    "    2. verdadero negativo (VN), al igual que en el caso anterior, los verdaderos negativos son aquellos patrones que no perteneciendo a la clase, el clasifidor los clasifica correctamente (0) \n",
    "    3. falsos positivos (FP), hace referencia a aquellos patrones que  perteneciendo a una determinada clasificación (1), se le clasifica como si éstos no perteneciesen (0). \n",
    "    4. falsos negativos (FN), serían los casos contrarios, i.e., los patrones que no pertenecen a la clasificación (0), se les clasifica como que  pertenecen (1).\n",
    "    \n",
    "La exactitud entonces, la mediremos como la relación siguiente (VP+FP)/(VP+VN+FP+FN). En otras palabras, acumularemos en un contador todos aquellos patrones que fueron correctamente clasificados y lo dividiremos entre el total de patrones evaluados. Evidentemente, aquel clasificador que no tenga ningún FP o FN, dará como resultado 1 (que es el caso deseable). En caso contrario dará un valor menor a 1.\n",
    "\n",
    "\n"
   ]
  },
  {
   "cell_type": "code",
   "execution_count": null,
   "metadata": {},
   "outputs": [],
   "source": []
  },
  {
   "cell_type": "markdown",
   "metadata": {},
   "source": [
    "### (20 puntos extra) Exactitud FFBP dos clases > 0.9\n",
    "\n",
    "El estudiante obtendrá 20 puntos extra si la exactitud de la FFBP es superior a 0.9"
   ]
  },
  {
   "cell_type": "code",
   "execution_count": null,
   "metadata": {},
   "outputs": [],
   "source": []
  },
  {
   "cell_type": "markdown",
   "metadata": {},
   "source": [
    "### *(100 puntos)* FFBP (múltiples clases, i.e., más de dos neuronas de salida)\n",
    "\n",
    "\n",
    "El estudiante deberá implementar una FFBP  que pueda reconocer la planta del iris (ver http://scikit-learn.org/stable/auto_examples/datasets/plot_iris_dataset.html). La implementación debera de poder identificar instancias de las tres clases (i.e., 3 neuronas en la capa de salida). \n",
    "\n",
    "El programa deberá ser capaz de interpretarse bajo Python versión 3 y, de ser necesario, podría requerirse al autor que demuestre el uso del programa personalmente al instructor. El código fuente deberá estar debidamente documentado.\n",
    "\n"
   ]
  },
  {
   "cell_type": "code",
   "execution_count": null,
   "metadata": {},
   "outputs": [],
   "source": []
  },
  {
   "cell_type": "markdown",
   "metadata": {},
   "source": [
    "### (50 puntos) Validación FFBP (múltiples clases)\n",
    "\n",
    "Realice lo siguiente para validar su FFBP\n",
    "\n",
    "#### Conjunto de Validación y conjunto de prueba\n",
    "\n",
    "Divida aleatoriamente el total de los patrones  en dos grupos. Use el primero el primero para entrenar FFBP, mientras que el segundo se ocupará para validarla (i.e., patrones que no hayan sido vistos por el clasificador). Se recomienda que el estudiante asigne un 75\\% del total para entrenamiento y 25\\% para validación. \n",
    "\n",
    "### Estadísticas\n",
    "\n",
    "Al tener componentes alesatorios, la FFBP debe validarse estadísticamente. Para esto, ejecute al menos 30 veces la implementación desarrollada y utilizando el conjunto de validación obtenga las siguientes métricas para cada archivo de datos:\n",
    "\n",
    "- **MSE**: Usualmente se usa el error cuadrático medio para indicar el comportamiento de la red. Se prefieren valores cercanos a cero en esta medida de desempeño.\n",
    "- **Exactitud**: En un problema de clasificación binaria, donde 0 indica no pertence y 1 si pertenece, cada uno de los patrones probados pueden ser correctos (verdadero positivo, o verdadero negativo), o inconrrectos (falso positivo o falso negativo), donde: \n",
    "    1. verdadero positivo (VP), hace referencia a que se clasificó correctamente al patrón, donde perteneciendo éste a la clase, el resultado fue verdadero (1). \n",
    "    2. verdadero negativo (VN), al igual que en el caso anterior, los verdaderos negativos son aquellos patrones que no perteneciendo a la clase, el clasifidor los clasifica correctamente (0) \n",
    "    3. falsos positivos (FP), hace referencia a aquellos patrones que  perteneciendo a una determinada clasificación (1), se le clasifica como si éstos no perteneciesen (0). \n",
    "    4. falsos negativos (FN), serían los casos contrarios, i.e., los patrones que no pertenecen a la clasificación (0), se les clasifica como que  pertenecen (1).\n",
    "    \n",
    "La exactitud entonces, la mediremos como la relación siguiente (VP+FP)/(VP+VN+FP+FN). En otras palabras, acumularemos en un contador todos aquellos patrones que fueron correctamente clasificados y lo dividiremos entre el total de patrones evaluados. Evidentemente, aquel clasificador que no tenga ningún FP o FN, dará como resultado 1 (que es el caso deseable). En caso contrario dará un valor menor a 1.\n",
    "\n",
    "\n"
   ]
  },
  {
   "cell_type": "code",
   "execution_count": null,
   "metadata": {},
   "outputs": [],
   "source": []
  },
  {
   "cell_type": "markdown",
   "metadata": {},
   "source": [
    "### (20 puntos extra) Exactitud FFBP múltiples clases > 0.9\n",
    "\n",
    "El estudiante obtendrá 20 puntos extra si la exactitud de la FFBP con múltiples clases es superior a 0.9"
   ]
  },
  {
   "cell_type": "code",
   "execution_count": null,
   "metadata": {},
   "outputs": [],
   "source": []
  },
  {
   "cell_type": "markdown",
   "metadata": {},
   "source": [
    "## (100 puntos) Extensión de la notebook presentada por el Dr. Camacho\n",
    "\n",
    "\n",
    "Descargue el conjunto de prueba cifar-10 de la página: https://www.cs.toronto.edu/~kriz/cifar.html\n",
    "\n",
    "Reemplace los datos usados para el ejemplo de perros vs gatos usados en la notebook https://gitlab.com/auraham/deep_learning_notes/-/blob/master/notebooks/build_model_v1_small_dataset.ipynb del Dr. Camacho y entrene dos clases de acuerdo a la siguiente lista:\n",
    "\n",
    "- Guillermo Monroy: airplane y automobile\n",
    "- David Tovias: bird y cat\n",
    "- Francisco Perales: deer, dog\n",
    "- Roberto Blanco: frog, horse\n",
    "- Nicolás Cortés: ship, truck\n",
    "- Amín Bernabé: airplane, truck\n",
    "- Diana Valencia: automobile, ship\n",
    "- Aarón Sánchez: bird, horse\n",
    "- Oscar Puga: cat, deer\n",
    "- Armando Isaac: frog, dog\n",
    "\n",
    "\n",
    "## (50 puntos extra) Uso de una CNN previamente entrenada para realizar la clasificación\n",
    "Tome como base la notebook: https://gitlab.com/auraham/deep_learning_notes/-/blob/master/notebooks/build_model_v2_feature_extraction.ipynb para usar una CNN previamente entrenada para realizar la clasificación. Compare con el punto anterior.\n"
   ]
  },
  {
   "cell_type": "markdown",
   "metadata": {},
   "source": [
    "### Fecha de entrega: 13 de abril de 2020 a las 12:00hrs. Toda tarea entregada tarde será penalizada con 10% (sobre la calificación obtenida) por cada periodo de 24 horas que se retrase su entrega."
   ]
  },
  {
   "cell_type": "code",
   "execution_count": null,
   "metadata": {
    "collapsed": true
   },
   "outputs": [],
   "source": []
  }
 ],
 "metadata": {
  "kernelspec": {
   "display_name": "Python 3",
   "language": "python",
   "name": "python3"
  },
  "language_info": {
   "codemirror_mode": {
    "name": "ipython",
    "version": 3
   },
   "file_extension": ".py",
   "mimetype": "text/x-python",
   "name": "python",
   "nbconvert_exporter": "python",
   "pygments_lexer": "ipython3",
   "version": "3.7.6"
  }
 },
 "nbformat": 4,
 "nbformat_minor": 2
}
